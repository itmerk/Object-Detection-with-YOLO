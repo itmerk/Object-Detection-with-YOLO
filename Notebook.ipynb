{
 "cells": [
  {
   "cell_type": "code",
   "execution_count": 1,
   "metadata": {},
   "outputs": [],
   "source": [
    "import torch"
   ]
  },
  {
   "cell_type": "code",
   "execution_count": 2,
   "metadata": {},
   "outputs": [
    {
     "data": {
      "text/plain": [
       "'NVIDIA GeForce RTX 4050 Laptop GPU'"
      ]
     },
     "execution_count": 2,
     "metadata": {},
     "output_type": "execute_result"
    }
   ],
   "source": [
    "torch.cuda.get_device_name(0)"
   ]
  },
  {
   "cell_type": "code",
   "execution_count": 3,
   "metadata": {},
   "outputs": [
    {
     "name": "stdout",
     "output_type": "stream",
     "text": [
      "\n",
      "image 1/1 D:\\data science\\projects\\my projects\\Object Detection 101 Course\\Running Yolo\\Images\\1.jpeg: 448x640 4 persons, 1 bus, 2 backpacks, 1 handbag, 102.6ms\n",
      "Speed: 0.0ms preprocess, 102.6ms inference, 117.5ms postprocess per image at shape (1, 3, 448, 640)\n"
     ]
    },
    {
     "data": {
      "text/plain": [
       "-1"
      ]
     },
     "execution_count": 3,
     "metadata": {},
     "output_type": "execute_result"
    }
   ],
   "source": [
    "from ultralytics import YOLO\n",
    "import cv2\n",
    "\n",
    "model = YOLO(\"D:/data science/projects/my projects/Object Detection 101 Course/Yolo-Weight/yolov8n.pt\")\n",
    "results = model(\"D:/data science/projects/my projects/Object Detection 101 Course/Running Yolo/Images/1.jpeg\",show=True)\n",
    "cv2.waitKey(0)"
   ]
  },
  {
   "cell_type": "code",
   "execution_count": 2,
   "metadata": {},
   "outputs": [
    {
     "name": "stdout",
     "output_type": "stream",
     "text": [
      "\n",
      "image 1/1 D:\\data science\\projects\\my projects\\Object Detection 101 Course\\Running Yolo\\Images\\1.jpeg: 448x640 4 persons, 2 buss, 4 backpacks, 1 handbag, 680.3ms\n",
      "Speed: 15.6ms preprocess, 680.3ms inference, 0.0ms postprocess per image at shape (1, 3, 448, 640)\n"
     ]
    },
    {
     "data": {
      "text/plain": [
       "-1"
      ]
     },
     "execution_count": 2,
     "metadata": {},
     "output_type": "execute_result"
    }
   ],
   "source": [
    "from ultralytics import YOLO\n",
    "import cv2\n",
    "\n",
    "model = YOLO(\"D:/data science/projects/my projects/Object Detection 101 Course/Yolo-Weight/yolov8l.pt\")\n",
    "results = model(\"D:/data science/projects/my projects/Object Detection 101 Course/Running Yolo/Images/1.jpeg\",show=True)\n",
    "cv2.waitKey(0)"
   ]
  }
 ],
 "metadata": {
  "kernelspec": {
   "display_name": ".venv",
   "language": "python",
   "name": "python3"
  },
  "language_info": {
   "codemirror_mode": {
    "name": "ipython",
    "version": 3
   },
   "file_extension": ".py",
   "mimetype": "text/x-python",
   "name": "python",
   "nbconvert_exporter": "python",
   "pygments_lexer": "ipython3",
   "version": "3.10.9"
  }
 },
 "nbformat": 4,
 "nbformat_minor": 2
}
